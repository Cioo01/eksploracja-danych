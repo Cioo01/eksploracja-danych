{
 "cells": [
  {
   "cell_type": "markdown",
   "metadata": {},
   "source": [
    "Pobierz dane o filmach i ich ocenach z plików movies.csv i ratings.csv. Zbiór zawiera 100000 ocen około 9000 filmów. Dane pochodzą z projektu MovieLens. Przyjmij, że ocena 4 lub więcej jest pozytywna, a ocena 2 lub mniej jest negatywna. Zbuduj dwa modele rekomendacyjne do generowania pozytywnych i negatywnych rekomendacji. Postaraj się odpowiedzieć na następujące pytania:\n",
    "\n",
    "Objerzałem już „Pulp Fiction” i “Reservoir Dogs”, oba filmy bardzo mi się podobały. Jaki film należy mi zarekomendować?\n",
    "\n",
    "Bardzo nie podobał mi się film ”Maska”. Jakich filmów powinienem unikać?"
   ]
  },
  {
   "cell_type": "code",
   "execution_count": 114,
   "metadata": {},
   "outputs": [],
   "source": [
    "import pandas as pd\n",
    "from mlxtend.preprocessing import TransactionEncoder\n",
    "from mlxtend.frequent_patterns import apriori, association_rules"
   ]
  },
  {
   "cell_type": "code",
   "execution_count": 115,
   "metadata": {},
   "outputs": [],
   "source": [
    "movies = pd.read_csv('data/movies.csv')\n",
    "ratings = pd.read_csv('data/ratings.csv')"
   ]
  },
  {
   "cell_type": "code",
   "execution_count": 116,
   "metadata": {},
   "outputs": [],
   "source": [
    "ratings = ratings.merge(movies, on='movieId')\n",
    "ratings = ratings.drop(['timestamp', 'genres'], axis=1)"
   ]
  },
  {
   "cell_type": "markdown",
   "metadata": {},
   "source": [
    "## Movies to recommend\n"
   ]
  },
  {
   "cell_type": "code",
   "execution_count": 117,
   "metadata": {},
   "outputs": [],
   "source": [
    "ratings_positive = ratings.copy()\n",
    "ratings_positive['liked'] = ratings_positive['rating'] >= 4\n"
   ]
  },
  {
   "cell_type": "code",
   "execution_count": 118,
   "metadata": {},
   "outputs": [],
   "source": [
    "liked_transactions = ratings_positive[ratings_positive['liked']].groupby('userId')['title'].apply(list)"
   ]
  },
  {
   "cell_type": "code",
   "execution_count": 119,
   "metadata": {},
   "outputs": [],
   "source": [
    "def process_transactions(transactions):\n",
    "    te = TransactionEncoder()\n",
    "    te_ary = te.fit(transactions).transform(transactions)\n",
    "    df = pd.DataFrame(te_ary, columns=te.columns_)\n",
    "    return df"
   ]
  },
  {
   "cell_type": "code",
   "execution_count": 120,
   "metadata": {},
   "outputs": [],
   "source": [
    "liked_df = process_transactions(liked_transactions)\n"
   ]
  },
  {
   "cell_type": "code",
   "execution_count": 121,
   "metadata": {},
   "outputs": [],
   "source": [
    "liked_itemsets = apriori(liked_df, min_support=0.1, use_colnames=True)\n"
   ]
  },
  {
   "cell_type": "code",
   "execution_count": 122,
   "metadata": {},
   "outputs": [],
   "source": [
    "liked_rules = association_rules(liked_itemsets, metric=\"confidence\", min_threshold=0.7)\n"
   ]
  },
  {
   "cell_type": "code",
   "execution_count": 123,
   "metadata": {},
   "outputs": [],
   "source": [
    "recommended_movies = liked_rules[(liked_rules['antecedents'].apply(lambda x: \"Pulp Fiction (1994)\" in x or \"Reservoir Dogs (1992)\" in x)) & (liked_rules['confidence'] > 0.7)]"
   ]
  },
  {
   "cell_type": "code",
   "execution_count": 124,
   "metadata": {},
   "outputs": [
    {
     "name": "stdout",
     "output_type": "stream",
     "text": [
      "Recommendations:\n",
      "Lord of the Rings: The Fellowship of the Ring, The (2001)\n",
      "Star Wars: Episode IV - A New Hope (1977)\n",
      "Raiders of the Lost Ark (Indiana Jones and the Raiders of the Lost Ark) (1981)\n",
      "Lord of the Rings: The Two Towers, The (2002)\n",
      "Lord of the Rings: The Return of the King, The (2003)\n",
      "Star Wars: Episode V - The Empire Strikes Back (1980)\n",
      "Pulp Fiction (1994)\n",
      "Star Wars: Episode VI - Return of the Jedi (1983)\n",
      "Silence of the Lambs, The (1991)\n",
      "Shawshank Redemption, The (1994)\n"
     ]
    }
   ],
   "source": [
    "recommended_titles = set()\n",
    "for index, row in recommended_movies.iterrows():\n",
    "    recommended_titles.update(row['consequents'])\n",
    "\n",
    "print(\"Recommendations:\")\n",
    "for title in recommended_titles:\n",
    "    print(title)"
   ]
  },
  {
   "cell_type": "markdown",
   "metadata": {},
   "source": [
    "## Movies to avoid"
   ]
  },
  {
   "cell_type": "code",
   "execution_count": 125,
   "metadata": {},
   "outputs": [],
   "source": [
    "ratings_negative = ratings.copy()\n",
    "ratings_negative['disliked'] = ratings_negative['rating'] <= 2"
   ]
  },
  {
   "cell_type": "code",
   "execution_count": 126,
   "metadata": {},
   "outputs": [],
   "source": [
    "disliked_transactions = ratings_negative[ratings_negative['disliked']].groupby('userId')['title'].apply(list)"
   ]
  },
  {
   "cell_type": "code",
   "execution_count": 127,
   "metadata": {},
   "outputs": [],
   "source": [
    "disliked_df = process_transactions(disliked_transactions)"
   ]
  },
  {
   "cell_type": "code",
   "execution_count": 128,
   "metadata": {},
   "outputs": [],
   "source": [
    "disliked_itemsets = apriori(disliked_df, min_support=0.01, use_colnames=True)"
   ]
  },
  {
   "cell_type": "code",
   "execution_count": 129,
   "metadata": {},
   "outputs": [],
   "source": [
    "disliked_rules = association_rules(disliked_itemsets, metric=\"confidence\", min_threshold=0.7)"
   ]
  },
  {
   "cell_type": "code",
   "execution_count": 130,
   "metadata": {},
   "outputs": [],
   "source": [
    "movies_to_avoid = disliked_rules[(disliked_rules['antecedents'].apply(lambda x: \"Mask, The (1994)\" in x)) & (disliked_rules['confidence'] > 0.7)]"
   ]
  },
  {
   "cell_type": "code",
   "execution_count": 131,
   "metadata": {},
   "outputs": [
    {
     "name": "stdout",
     "output_type": "stream",
     "text": [
      "Movies to avoid:\n",
      "Ace Ventura: Pet Detective (1994)\n",
      "Ace Ventura: When Nature Calls (1995)\n"
     ]
    }
   ],
   "source": [
    "titles_to_avoid = set()\n",
    "for index, row in movies_to_avoid.iterrows():\n",
    "    titles_to_avoid.update(row['consequents'])\n",
    "\n",
    "print(\"Movies to avoid:\")\n",
    "for title in titles_to_avoid:\n",
    "    print(title)"
   ]
  },
  {
   "cell_type": "code",
   "execution_count": null,
   "metadata": {},
   "outputs": [],
   "source": []
  }
 ],
 "metadata": {
  "kernelspec": {
   "display_name": "eksploracjadanych",
   "language": "python",
   "name": "python3"
  },
  "language_info": {
   "codemirror_mode": {
    "name": "ipython",
    "version": 3
   },
   "file_extension": ".py",
   "mimetype": "text/x-python",
   "name": "python",
   "nbconvert_exporter": "python",
   "pygments_lexer": "ipython3",
   "version": "3.12.3"
  }
 },
 "nbformat": 4,
 "nbformat_minor": 2
}
